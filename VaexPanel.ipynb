{
 "cells": [
  {
   "cell_type": "code",
   "execution_count": null,
   "metadata": {
    "extensions": {
     "jupyter_dashboards": {
      "version": 1,
      "views": {
       "grid_default": {},
       "report_default": {}
      }
     }
    }
   },
   "outputs": [],
   "source": [
    "import vaex\n",
    "import pandas as pd\n",
    "import panel as pn\n",
    "import math\n",
    "import param\n",
    "import os\n",
    "import glob\n",
    "import datetime"
   ]
  },
  {
   "cell_type": "code",
   "execution_count": null,
   "metadata": {
    "extensions": {
     "jupyter_dashboards": {
      "version": 1,
      "views": {
       "grid_default": {},
       "report_default": {}
      }
     }
    }
   },
   "outputs": [],
   "source": [
    "pn.extension()"
   ]
  },
  {
   "cell_type": "markdown",
   "metadata": {
    "extensions": {
     "jupyter_dashboards": {
      "version": 1,
      "views": {
       "grid_default": {},
       "report_default": {}
      }
     }
    }
   },
   "source": [
    "### Vaex"
   ]
  },
  {
   "cell_type": "code",
   "execution_count": null,
   "metadata": {},
   "outputs": [],
   "source": [
    "class Loader(param.Parameterized):\n",
    "    \n",
    "    file_path = param.String(default=\"\", doc=\"Enter File Path\")\n",
    "    load_file = param.Action(lambda x: x.param.trigger('load_file'))\n",
    "    \n",
    "    \n",
    "    def __init__(self, **params):\n",
    "        super(Loader, self).__init__(**params)\n",
    "        self.data = pd.DataFrame()\n",
    "        self.data_length = len(self.data)\n",
    "        self.data_columns = []\n",
    "        \n",
    "    @param.depends('load_file', watch=True)\n",
    "    def load(self):\n",
    "        if self.file_path != \"\":\n",
    "            self.data = vaex.open(str(self.file_path))\n",
    "            self.data_length = len(self.data)\n",
    "            self.data_columns = list(self.data.get_column_names())"
   ]
  },
  {
   "cell_type": "code",
   "execution_count": null,
   "metadata": {},
   "outputs": [],
   "source": [
    "class Frame(param.Parameterized):\n",
    "    \n",
    "    frame = param.DataFrame(pd.DataFrame())\n",
    "    page = param.Integer(1)\n",
    "    load = Loader()\n",
    "    \n",
    "    def __init__(self, **params):\n",
    "        super(Frame, self).__init__(**params)\n",
    "        self.per_page = 30\n",
    "\n",
    "    @param.depends('load.load_file')\n",
    "    def pagination(self):\n",
    "        self.last_page = math.ceil(self.load.data_length / 30)\n",
    "        self.param.page.bounds = (1, self.last_page)\n",
    "\n",
    "    @param.depends('load.load_file', 'page')\n",
    "    def refresh_frame(self):\n",
    "        if self.load.file_path != \"\":\n",
    "            self.from_item = ((self.page) - 1) * self.per_page\n",
    "            self.to_item = (self.page * self.per_page)\n",
    "            self.frame = self.load.data[self.from_item: self.to_item].to_pandas_df()\n",
    "#             self.frame = self.load.data.take(range(self.from_item, self.to_item)).to_pandas_df()\n",
    "\n",
    "    @param.depends('frame')\n",
    "    def show_frame(self):\n",
    "        df_widget = pn.widgets.DataFrame(self.frame, name= 'DataSlice', width=1200)\n",
    "        return df_widget"
   ]
  },
  {
   "cell_type": "code",
   "execution_count": null,
   "metadata": {},
   "outputs": [],
   "source": [
    "operators = [['>='],\n",
    "             ['<='],\n",
    "             ['<'],\n",
    "             ['>'],\n",
    "             ['!='],\n",
    "             ['=='],\n",
    "             ['contains '],\n",
    "             ['datestartswith ']]\n",
    "\n",
    "def split_filter_part(filter_part):\n",
    "    for operator_type in operators:\n",
    "        for operator in operator_type:\n",
    "            if operator in filter_part:\n",
    "                name_part, value_part = filter_part.split(operator, 1)\n",
    "                value_part = value_part.strip()\n",
    "                v0 = value_part[0]\n",
    "                if (v0 == value_part[-1] and v0 in (\"'\", '\"', '`')):\n",
    "                    value = value_part[1: -1].replace('\\\\' + v0, v0)\n",
    "                else:\n",
    "                    try:\n",
    "                        value = float(value_part)\n",
    "                    except ValueError:\n",
    "                        value = value_part\n",
    "                return operator_type[0], value\n",
    "                \n",
    "\n",
    "    return [None] * 2"
   ]
  },
  {
   "cell_type": "code",
   "execution_count": null,
   "metadata": {},
   "outputs": [],
   "source": [
    "def create_query_string(key, op, value):\n",
    "    query_str = \"\"\n",
    "    if type(value)==str:\n",
    "        if ', ' in value:\n",
    "            for item in value.split(', '):\n",
    "                print(item)\n",
    "                query_str += \"(\" + key + op + \"'\"+item+\"'\" + \")|\"\n",
    "            query_str = query_str[:-1]\n",
    "        else:\n",
    "            query_str += \"(\" + key + op + \"'\"+value+\"'\" + \")\"\n",
    "    elif type(value)==float:\n",
    "        query_str += \"(\" + key + op + str(value) + \")\"\n",
    "    return query_str"
   ]
  },
  {
   "cell_type": "code",
   "execution_count": null,
   "metadata": {},
   "outputs": [],
   "source": [
    "class Filter(Frame):\n",
    "    \n",
    "    query_df = param.DataFrame(pd.DataFrame())\n",
    "    apply = param.Action(lambda x: x.param.trigger('apply'))\n",
    "    _filters = []\n",
    "    \n",
    "    @param.depends('load.load_file')\n",
    "    def build_query_df(self):\n",
    "        self.query_df = pd.DataFrame({k:'' for k in self.load.data_columns}, index=[0])\n",
    "#         return pn.widgets.DataFrame(self.query_df)\n",
    "    \n",
    "    @param.depends('load.load_file', 'query_df')\n",
    "    def query_menu(self):\n",
    "        return pn.widgets.DataFrame(self.query_df)\n",
    "    \n",
    "    @param.depends('apply')\n",
    "    def apply_query(self):\n",
    "        if self.load.file_path != \"\":\n",
    "            for key, row_value in self.query_df.iteritems():\n",
    "                qs = row_value[0]\n",
    "                op, value = split_filter_part(qs)\n",
    "                query_s = create_query_string(key, op, value)\n",
    "                if query_s is not '':\n",
    "                    self._filters.append(query_s)\n",
    "            for f in list(set(self._filters)):         \n",
    "                self.load.data = self.load.data[self.load.data[f]]\n",
    "            self.refresh_frame()"
   ]
  },
  {
   "cell_type": "code",
   "execution_count": null,
   "metadata": {},
   "outputs": [],
   "source": [
    "filt = Filter()"
   ]
  },
  {
   "cell_type": "code",
   "execution_count": null,
   "metadata": {},
   "outputs": [],
   "source": [
    "filt.load.data_length"
   ]
  },
  {
   "cell_type": "code",
   "execution_count": null,
   "metadata": {},
   "outputs": [],
   "source": [
    "pn.Row(pn.Column(filt.load, \n",
    "                 filt.param.page, \n",
    "                 filt.pagination,\n",
    "                 ),\n",
    "       pn.Column(filt.build_query_df,\n",
    "                 filt.query_menu,\n",
    "                 filt.param.apply,\n",
    "                 filt.apply_query,\n",
    "                 filt.refresh_frame, \n",
    "                 filt.show_frame\n",
    "                 )\n",
    "       )"
   ]
  },
  {
   "cell_type": "code",
   "execution_count": null,
   "metadata": {},
   "outputs": [],
   "source": []
  }
 ],
 "metadata": {
  "extensions": {
   "jupyter_dashboards": {
    "activeView": "grid_default",
    "version": 1,
    "views": {
     "grid_default": {
      "cellMargin": 10,
      "defaultCellHeight": 20,
      "maxColumns": 12,
      "name": "grid",
      "type": "grid"
     },
     "report_default": {
      "name": "report",
      "type": "report"
     }
    }
   }
  },
  "kernelspec": {
   "display_name": "Python 3",
   "language": "python",
   "name": "python3"
  },
  "language_info": {
   "codemirror_mode": {
    "name": "ipython",
    "version": 3
   },
   "file_extension": ".py",
   "mimetype": "text/x-python",
   "name": "python",
   "nbconvert_exporter": "python",
   "pygments_lexer": "ipython3",
   "version": "3.7.8"
  }
 },
 "nbformat": 4,
 "nbformat_minor": 4
}
