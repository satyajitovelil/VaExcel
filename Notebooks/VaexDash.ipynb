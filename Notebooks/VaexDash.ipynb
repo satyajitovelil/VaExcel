{
 "cells": [
  {
   "cell_type": "markdown",
   "metadata": {},
   "source": [
    "### Load the required modules"
   ]
  },
  {
   "cell_type": "code",
   "execution_count": 1,
   "metadata": {
    "extensions": {
     "jupyter_dashboards": {
      "version": 1,
      "views": {
       "grid_default": {},
       "report_default": {}
      }
     }
    }
   },
   "outputs": [],
   "source": [
    "import vaex\n",
    "import pandas as pd\n",
    "import panel as pn\n",
    "import math\n",
    "import param\n",
    "import os\n",
    "import glob\n",
    "import datetime"
   ]
  },
  {
   "cell_type": "code",
   "execution_count": 2,
   "metadata": {
    "extensions": {
     "jupyter_dashboards": {
      "version": 1,
      "views": {
       "grid_default": {},
       "report_default": {}
      }
     }
    }
   },
   "outputs": [
    {
     "data": {
      "application/javascript": [
       "\n",
       "(function(root) {\n",
       "  function now() {\n",
       "    return new Date();\n",
       "  }\n",
       "\n",
       "  var force = true;\n",
       "\n",
       "  if (typeof root._bokeh_onload_callbacks === \"undefined\" || force === true) {\n",
       "    root._bokeh_onload_callbacks = [];\n",
       "    root._bokeh_is_loading = undefined;\n",
       "  }\n",
       "\n",
       "  if (typeof (root._bokeh_timeout) === \"undefined\" || force === true) {\n",
       "    root._bokeh_timeout = Date.now() + 5000;\n",
       "    root._bokeh_failed_load = false;\n",
       "  }\n",
       "\n",
       "  function run_callbacks() {\n",
       "    try {\n",
       "      root._bokeh_onload_callbacks.forEach(function(callback) {\n",
       "        if (callback != null)\n",
       "          callback();\n",
       "      });\n",
       "    } finally {\n",
       "      delete root._bokeh_onload_callbacks\n",
       "    }\n",
       "    console.debug(\"Bokeh: all callbacks have finished\");\n",
       "  }\n",
       "\n",
       "  function load_libs(css_urls, js_urls, callback) {\n",
       "    if (css_urls == null) css_urls = [];\n",
       "    if (js_urls == null) js_urls = [];\n",
       "\n",
       "    root._bokeh_onload_callbacks.push(callback);\n",
       "    if (root._bokeh_is_loading > 0) {\n",
       "      console.debug(\"Bokeh: BokehJS is being loaded, scheduling callback at\", now());\n",
       "      return null;\n",
       "    }\n",
       "    if (js_urls == null || js_urls.length === 0) {\n",
       "      run_callbacks();\n",
       "      return null;\n",
       "    }\n",
       "    console.debug(\"Bokeh: BokehJS not loaded, scheduling load and callback at\", now());\n",
       "    root._bokeh_is_loading = css_urls.length + js_urls.length;\n",
       "\n",
       "    function on_load() {\n",
       "      root._bokeh_is_loading--;\n",
       "      if (root._bokeh_is_loading === 0) {\n",
       "        console.debug(\"Bokeh: all BokehJS libraries/stylesheets loaded\");\n",
       "        run_callbacks()\n",
       "      }\n",
       "    }\n",
       "\n",
       "    function on_error() {\n",
       "      console.error(\"failed to load \" + url);\n",
       "    }\n",
       "\n",
       "    for (var i = 0; i < css_urls.length; i++) {\n",
       "      var url = css_urls[i];\n",
       "      const element = document.createElement(\"link\");\n",
       "      element.onload = on_load;\n",
       "      element.onerror = on_error;\n",
       "      element.rel = \"stylesheet\";\n",
       "      element.type = \"text/css\";\n",
       "      element.href = url;\n",
       "      console.debug(\"Bokeh: injecting link tag for BokehJS stylesheet: \", url);\n",
       "      document.body.appendChild(element);\n",
       "    }\n",
       "\n",
       "    var skip = [];\n",
       "    if (window.requirejs) {\n",
       "      require([], function() {\n",
       "      })\n",
       "    }\n",
       "    for (var i = 0; i < js_urls.length; i++) {\n",
       "      var url = js_urls[i];\n",
       "      if (skip.indexOf(url) >= 0) { on_load(); continue; }\n",
       "      var element = document.createElement('script');\n",
       "      element.onload = on_load;\n",
       "      element.onerror = on_error;\n",
       "      element.async = false;\n",
       "      element.src = url;\n",
       "      console.debug(\"Bokeh: injecting script tag for BokehJS library: \", url);\n",
       "      document.head.appendChild(element);\n",
       "    }\n",
       "\tif (!js_urls.length) {\n",
       "      on_load()\n",
       "    }\n",
       "  };\n",
       "\n",
       "  function inject_raw_css(css) {\n",
       "    const element = document.createElement(\"style\");\n",
       "    element.appendChild(document.createTextNode(css));\n",
       "    document.body.appendChild(element);\n",
       "  }\n",
       "\n",
       "  var js_urls = [\"https://cdn.bokeh.org/bokeh/release/bokeh-2.2.3.min.js\", \"https://cdn.bokeh.org/bokeh/release/bokeh-widgets-2.2.3.min.js\", \"https://cdn.bokeh.org/bokeh/release/bokeh-tables-2.2.3.min.js\", \"https://unpkg.com/@holoviz/panel@^0.10.1/dist/panel.min.js\"];\n",
       "  var css_urls = [\"https://unpkg.com/@holoviz/panel@0.10.1/dist/css/alerts.css\", \"https://unpkg.com/@holoviz/panel@0.10.1/dist/css/card.css\", \"https://unpkg.com/@holoviz/panel@0.10.1/dist/css/dataframe.css\", \"https://unpkg.com/@holoviz/panel@0.10.1/dist/css/json.css\", \"https://unpkg.com/@holoviz/panel@0.10.1/dist/css/markdown.css\", \"https://unpkg.com/@holoviz/panel@0.10.1/dist/css/widgets.css\"];\n",
       "\n",
       "  var inline_js = [\n",
       "    function(Bokeh) {\n",
       "      Bokeh.set_log_level(\"info\");\n",
       "    },\n",
       "    function(Bokeh) {} // ensure no trailing comma for IE\n",
       "  ];\n",
       "\n",
       "  function run_inline_js() {\n",
       "    if ((root.Bokeh !== undefined) || (force === true)) {\n",
       "      for (var i = 0; i < inline_js.length; i++) {\n",
       "        inline_js[i].call(root, root.Bokeh);\n",
       "      }} else if (Date.now() < root._bokeh_timeout) {\n",
       "      setTimeout(run_inline_js, 100);\n",
       "    } else if (!root._bokeh_failed_load) {\n",
       "      console.log(\"Bokeh: BokehJS failed to load within specified timeout.\");\n",
       "      root._bokeh_failed_load = true;\n",
       "    }\n",
       "  }\n",
       "\n",
       "  if (root._bokeh_is_loading === 0) {\n",
       "    console.debug(\"Bokeh: BokehJS loaded, going straight to plotting\");\n",
       "    run_inline_js();\n",
       "  } else {\n",
       "    load_libs(css_urls, js_urls, function() {\n",
       "      console.debug(\"Bokeh: BokehJS plotting callback run at\", now());\n",
       "      run_inline_js();\n",
       "    });\n",
       "  }\n",
       "}(window));"
      ],
      "application/vnd.holoviews_load.v0+json": "\n(function(root) {\n  function now() {\n    return new Date();\n  }\n\n  var force = true;\n\n  if (typeof root._bokeh_onload_callbacks === \"undefined\" || force === true) {\n    root._bokeh_onload_callbacks = [];\n    root._bokeh_is_loading = undefined;\n  }\n\n  if (typeof (root._bokeh_timeout) === \"undefined\" || force === true) {\n    root._bokeh_timeout = Date.now() + 5000;\n    root._bokeh_failed_load = false;\n  }\n\n  function run_callbacks() {\n    try {\n      root._bokeh_onload_callbacks.forEach(function(callback) {\n        if (callback != null)\n          callback();\n      });\n    } finally {\n      delete root._bokeh_onload_callbacks\n    }\n    console.debug(\"Bokeh: all callbacks have finished\");\n  }\n\n  function load_libs(css_urls, js_urls, callback) {\n    if (css_urls == null) css_urls = [];\n    if (js_urls == null) js_urls = [];\n\n    root._bokeh_onload_callbacks.push(callback);\n    if (root._bokeh_is_loading > 0) {\n      console.debug(\"Bokeh: BokehJS is being loaded, scheduling callback at\", now());\n      return null;\n    }\n    if (js_urls == null || js_urls.length === 0) {\n      run_callbacks();\n      return null;\n    }\n    console.debug(\"Bokeh: BokehJS not loaded, scheduling load and callback at\", now());\n    root._bokeh_is_loading = css_urls.length + js_urls.length;\n\n    function on_load() {\n      root._bokeh_is_loading--;\n      if (root._bokeh_is_loading === 0) {\n        console.debug(\"Bokeh: all BokehJS libraries/stylesheets loaded\");\n        run_callbacks()\n      }\n    }\n\n    function on_error() {\n      console.error(\"failed to load \" + url);\n    }\n\n    for (var i = 0; i < css_urls.length; i++) {\n      var url = css_urls[i];\n      const element = document.createElement(\"link\");\n      element.onload = on_load;\n      element.onerror = on_error;\n      element.rel = \"stylesheet\";\n      element.type = \"text/css\";\n      element.href = url;\n      console.debug(\"Bokeh: injecting link tag for BokehJS stylesheet: \", url);\n      document.body.appendChild(element);\n    }\n\n    var skip = [];\n    if (window.requirejs) {\n      require([], function() {\n      })\n    }\n    for (var i = 0; i < js_urls.length; i++) {\n      var url = js_urls[i];\n      if (skip.indexOf(url) >= 0) { on_load(); continue; }\n      var element = document.createElement('script');\n      element.onload = on_load;\n      element.onerror = on_error;\n      element.async = false;\n      element.src = url;\n      console.debug(\"Bokeh: injecting script tag for BokehJS library: \", url);\n      document.head.appendChild(element);\n    }\n\tif (!js_urls.length) {\n      on_load()\n    }\n  };\n\n  function inject_raw_css(css) {\n    const element = document.createElement(\"style\");\n    element.appendChild(document.createTextNode(css));\n    document.body.appendChild(element);\n  }\n\n  var js_urls = [\"https://cdn.bokeh.org/bokeh/release/bokeh-2.2.3.min.js\", \"https://cdn.bokeh.org/bokeh/release/bokeh-widgets-2.2.3.min.js\", \"https://cdn.bokeh.org/bokeh/release/bokeh-tables-2.2.3.min.js\", \"https://unpkg.com/@holoviz/panel@^0.10.1/dist/panel.min.js\"];\n  var css_urls = [\"https://unpkg.com/@holoviz/panel@0.10.1/dist/css/alerts.css\", \"https://unpkg.com/@holoviz/panel@0.10.1/dist/css/card.css\", \"https://unpkg.com/@holoviz/panel@0.10.1/dist/css/dataframe.css\", \"https://unpkg.com/@holoviz/panel@0.10.1/dist/css/json.css\", \"https://unpkg.com/@holoviz/panel@0.10.1/dist/css/markdown.css\", \"https://unpkg.com/@holoviz/panel@0.10.1/dist/css/widgets.css\"];\n\n  var inline_js = [\n    function(Bokeh) {\n      Bokeh.set_log_level(\"info\");\n    },\n    function(Bokeh) {} // ensure no trailing comma for IE\n  ];\n\n  function run_inline_js() {\n    if ((root.Bokeh !== undefined) || (force === true)) {\n      for (var i = 0; i < inline_js.length; i++) {\n        inline_js[i].call(root, root.Bokeh);\n      }} else if (Date.now() < root._bokeh_timeout) {\n      setTimeout(run_inline_js, 100);\n    } else if (!root._bokeh_failed_load) {\n      console.log(\"Bokeh: BokehJS failed to load within specified timeout.\");\n      root._bokeh_failed_load = true;\n    }\n  }\n\n  if (root._bokeh_is_loading === 0) {\n    console.debug(\"Bokeh: BokehJS loaded, going straight to plotting\");\n    run_inline_js();\n  } else {\n    load_libs(css_urls, js_urls, function() {\n      console.debug(\"Bokeh: BokehJS plotting callback run at\", now());\n      run_inline_js();\n    });\n  }\n}(window));"
     },
     "metadata": {},
     "output_type": "display_data"
    },
    {
     "data": {
      "application/javascript": [
       "\n",
       "if ((window.PyViz === undefined) || (window.PyViz instanceof HTMLElement)) {\n",
       "  window.PyViz = {comms: {}, comm_status:{}, kernels:{}, receivers: {}, plot_index: []}\n",
       "}\n",
       "\n",
       "\n",
       "    function JupyterCommManager() {\n",
       "    }\n",
       "\n",
       "    JupyterCommManager.prototype.register_target = function(plot_id, comm_id, msg_handler) {\n",
       "      if (window.comm_manager || ((window.Jupyter !== undefined) && (Jupyter.notebook.kernel != null))) {\n",
       "        var comm_manager = window.comm_manager || Jupyter.notebook.kernel.comm_manager;\n",
       "        comm_manager.register_target(comm_id, function(comm) {\n",
       "          comm.on_msg(msg_handler);\n",
       "        });\n",
       "      } else if ((plot_id in window.PyViz.kernels) && (window.PyViz.kernels[plot_id])) {\n",
       "        window.PyViz.kernels[plot_id].registerCommTarget(comm_id, function(comm) {\n",
       "          comm.onMsg = msg_handler;\n",
       "        });\n",
       "      } else if (typeof google != 'undefined' && google.colab.kernel != null) {\n",
       "        google.colab.kernel.comms.registerTarget(comm_id, (comm) => {\n",
       "          var messages = comm.messages[Symbol.asyncIterator]();\n",
       "          function processIteratorResult(result) {\n",
       "            var message = result.value;\n",
       "            console.log(message)\n",
       "            var content = {data: message.data, comm_id};\n",
       "            var buffers = []\n",
       "            for (var buffer of message.buffers || []) {\n",
       "              buffers.push(new DataView(buffer))\n",
       "            }\n",
       "            var metadata = message.metadata || {};\n",
       "            var msg = {content, buffers, metadata}\n",
       "            msg_handler(msg);\n",
       "            return messages.next().then(processIteratorResult);\n",
       "          }\n",
       "          return messages.next().then(processIteratorResult);\n",
       "        })\n",
       "      }\n",
       "    }\n",
       "\n",
       "    JupyterCommManager.prototype.get_client_comm = function(plot_id, comm_id, msg_handler) {\n",
       "      if (comm_id in window.PyViz.comms) {\n",
       "        return window.PyViz.comms[comm_id];\n",
       "      } else if (window.comm_manager || ((window.Jupyter !== undefined) && (Jupyter.notebook.kernel != null))) {\n",
       "        var comm_manager = window.comm_manager || Jupyter.notebook.kernel.comm_manager;\n",
       "        var comm = comm_manager.new_comm(comm_id, {}, {}, {}, comm_id);\n",
       "        if (msg_handler) {\n",
       "          comm.on_msg(msg_handler);\n",
       "        }\n",
       "      } else if ((plot_id in window.PyViz.kernels) && (window.PyViz.kernels[plot_id])) {\n",
       "        var comm = window.PyViz.kernels[plot_id].connectToComm(comm_id);\n",
       "        comm.open();\n",
       "        if (msg_handler) {\n",
       "          comm.onMsg = msg_handler;\n",
       "        }\n",
       "      } else if (typeof google != 'undefined' && google.colab.kernel != null) {\n",
       "        var comm_promise = google.colab.kernel.comms.open(comm_id)\n",
       "        comm_promise.then((comm) => {\n",
       "          window.PyViz.comms[comm_id] = comm;\n",
       "          if (msg_handler) {\n",
       "            var messages = comm.messages[Symbol.asyncIterator]();\n",
       "            function processIteratorResult(result) {\n",
       "              var message = result.value;\n",
       "              var content = {data: message.data};\n",
       "              var metadata = message.metadata || {comm_id};\n",
       "              var msg = {content, metadata}\n",
       "              msg_handler(msg);\n",
       "              return messages.next().then(processIteratorResult);\n",
       "            }\n",
       "            return messages.next().then(processIteratorResult);\n",
       "          }\n",
       "        }) \n",
       "        var sendClosure = (data, metadata, buffers, disposeOnDone) => {\n",
       "          return comm_promise.then((comm) => {\n",
       "            comm.send(data, metadata, buffers, disposeOnDone);\n",
       "          });\n",
       "        };\n",
       "        var comm = {\n",
       "          send: sendClosure\n",
       "        };\n",
       "      }\n",
       "      window.PyViz.comms[comm_id] = comm;\n",
       "      return comm;\n",
       "    }\n",
       "    window.PyViz.comm_manager = new JupyterCommManager();\n",
       "    \n",
       "\n",
       "\n",
       "var JS_MIME_TYPE = 'application/javascript';\n",
       "var HTML_MIME_TYPE = 'text/html';\n",
       "var EXEC_MIME_TYPE = 'application/vnd.holoviews_exec.v0+json';\n",
       "var CLASS_NAME = 'output';\n",
       "\n",
       "/**\n",
       " * Render data to the DOM node\n",
       " */\n",
       "function render(props, node) {\n",
       "  var div = document.createElement(\"div\");\n",
       "  var script = document.createElement(\"script\");\n",
       "  node.appendChild(div);\n",
       "  node.appendChild(script);\n",
       "}\n",
       "\n",
       "/**\n",
       " * Handle when a new output is added\n",
       " */\n",
       "function handle_add_output(event, handle) {\n",
       "  var output_area = handle.output_area;\n",
       "  var output = handle.output;\n",
       "  if ((output.data == undefined) || (!output.data.hasOwnProperty(EXEC_MIME_TYPE))) {\n",
       "    return\n",
       "  }\n",
       "  var id = output.metadata[EXEC_MIME_TYPE][\"id\"];\n",
       "  var toinsert = output_area.element.find(\".\" + CLASS_NAME.split(' ')[0]);\n",
       "  if (id !== undefined) {\n",
       "    var nchildren = toinsert.length;\n",
       "    var html_node = toinsert[nchildren-1].children[0];\n",
       "    html_node.innerHTML = output.data[HTML_MIME_TYPE];\n",
       "    var scripts = [];\n",
       "    var nodelist = html_node.querySelectorAll(\"script\");\n",
       "    for (var i in nodelist) {\n",
       "      if (nodelist.hasOwnProperty(i)) {\n",
       "        scripts.push(nodelist[i])\n",
       "      }\n",
       "    }\n",
       "\n",
       "    scripts.forEach( function (oldScript) {\n",
       "      var newScript = document.createElement(\"script\");\n",
       "      var attrs = [];\n",
       "      var nodemap = oldScript.attributes;\n",
       "      for (var j in nodemap) {\n",
       "        if (nodemap.hasOwnProperty(j)) {\n",
       "          attrs.push(nodemap[j])\n",
       "        }\n",
       "      }\n",
       "      attrs.forEach(function(attr) { newScript.setAttribute(attr.name, attr.value) });\n",
       "      newScript.appendChild(document.createTextNode(oldScript.innerHTML));\n",
       "      oldScript.parentNode.replaceChild(newScript, oldScript);\n",
       "    });\n",
       "    if (JS_MIME_TYPE in output.data) {\n",
       "      toinsert[nchildren-1].children[1].textContent = output.data[JS_MIME_TYPE];\n",
       "    }\n",
       "    output_area._hv_plot_id = id;\n",
       "    if ((window.Bokeh !== undefined) && (id in Bokeh.index)) {\n",
       "      window.PyViz.plot_index[id] = Bokeh.index[id];\n",
       "    } else {\n",
       "      window.PyViz.plot_index[id] = null;\n",
       "    }\n",
       "  } else if (output.metadata[EXEC_MIME_TYPE][\"server_id\"] !== undefined) {\n",
       "    var bk_div = document.createElement(\"div\");\n",
       "    bk_div.innerHTML = output.data[HTML_MIME_TYPE];\n",
       "    var script_attrs = bk_div.children[0].attributes;\n",
       "    for (var i = 0; i < script_attrs.length; i++) {\n",
       "      toinsert[toinsert.length - 1].childNodes[1].setAttribute(script_attrs[i].name, script_attrs[i].value);\n",
       "    }\n",
       "    // store reference to server id on output_area\n",
       "    output_area._bokeh_server_id = output.metadata[EXEC_MIME_TYPE][\"server_id\"];\n",
       "  }\n",
       "}\n",
       "\n",
       "/**\n",
       " * Handle when an output is cleared or removed\n",
       " */\n",
       "function handle_clear_output(event, handle) {\n",
       "  var id = handle.cell.output_area._hv_plot_id;\n",
       "  var server_id = handle.cell.output_area._bokeh_server_id;\n",
       "  if (((id === undefined) || !(id in PyViz.plot_index)) && (server_id !== undefined)) { return; }\n",
       "  var comm = window.PyViz.comm_manager.get_client_comm(\"hv-extension-comm\", \"hv-extension-comm\", function () {});\n",
       "  if (server_id !== null) {\n",
       "    comm.send({event_type: 'server_delete', 'id': server_id});\n",
       "    return;\n",
       "  } else if (comm !== null) {\n",
       "    comm.send({event_type: 'delete', 'id': id});\n",
       "  }\n",
       "  delete PyViz.plot_index[id];\n",
       "  if ((window.Bokeh !== undefined) & (id in window.Bokeh.index)) {\n",
       "    var doc = window.Bokeh.index[id].model.document\n",
       "    doc.clear();\n",
       "    const i = window.Bokeh.documents.indexOf(doc);\n",
       "    if (i > -1) {\n",
       "      window.Bokeh.documents.splice(i, 1);\n",
       "    }\n",
       "  }\n",
       "}\n",
       "\n",
       "/**\n",
       " * Handle kernel restart event\n",
       " */\n",
       "function handle_kernel_cleanup(event, handle) {\n",
       "  delete PyViz.comms[\"hv-extension-comm\"];\n",
       "  window.PyViz.plot_index = {}\n",
       "}\n",
       "\n",
       "/**\n",
       " * Handle update_display_data messages\n",
       " */\n",
       "function handle_update_output(event, handle) {\n",
       "  handle_clear_output(event, {cell: {output_area: handle.output_area}})\n",
       "  handle_add_output(event, handle)\n",
       "}\n",
       "\n",
       "function register_renderer(events, OutputArea) {\n",
       "  function append_mime(data, metadata, element) {\n",
       "    // create a DOM node to render to\n",
       "    var toinsert = this.create_output_subarea(\n",
       "    metadata,\n",
       "    CLASS_NAME,\n",
       "    EXEC_MIME_TYPE\n",
       "    );\n",
       "    this.keyboard_manager.register_events(toinsert);\n",
       "    // Render to node\n",
       "    var props = {data: data, metadata: metadata[EXEC_MIME_TYPE]};\n",
       "    render(props, toinsert[0]);\n",
       "    element.append(toinsert);\n",
       "    return toinsert\n",
       "  }\n",
       "\n",
       "  events.on('output_added.OutputArea', handle_add_output);\n",
       "  events.on('output_updated.OutputArea', handle_update_output);\n",
       "  events.on('clear_output.CodeCell', handle_clear_output);\n",
       "  events.on('delete.Cell', handle_clear_output);\n",
       "  events.on('kernel_ready.Kernel', handle_kernel_cleanup);\n",
       "\n",
       "  OutputArea.prototype.register_mime_type(EXEC_MIME_TYPE, append_mime, {\n",
       "    safe: true,\n",
       "    index: 0\n",
       "  });\n",
       "}\n",
       "\n",
       "if (window.Jupyter !== undefined) {\n",
       "  try {\n",
       "    var events = require('base/js/events');\n",
       "    var OutputArea = require('notebook/js/outputarea').OutputArea;\n",
       "    if (OutputArea.prototype.mime_types().indexOf(EXEC_MIME_TYPE) == -1) {\n",
       "      register_renderer(events, OutputArea);\n",
       "    }\n",
       "  } catch(err) {\n",
       "  }\n",
       "}\n"
      ],
      "application/vnd.holoviews_load.v0+json": "\nif ((window.PyViz === undefined) || (window.PyViz instanceof HTMLElement)) {\n  window.PyViz = {comms: {}, comm_status:{}, kernels:{}, receivers: {}, plot_index: []}\n}\n\n\n    function JupyterCommManager() {\n    }\n\n    JupyterCommManager.prototype.register_target = function(plot_id, comm_id, msg_handler) {\n      if (window.comm_manager || ((window.Jupyter !== undefined) && (Jupyter.notebook.kernel != null))) {\n        var comm_manager = window.comm_manager || Jupyter.notebook.kernel.comm_manager;\n        comm_manager.register_target(comm_id, function(comm) {\n          comm.on_msg(msg_handler);\n        });\n      } else if ((plot_id in window.PyViz.kernels) && (window.PyViz.kernels[plot_id])) {\n        window.PyViz.kernels[plot_id].registerCommTarget(comm_id, function(comm) {\n          comm.onMsg = msg_handler;\n        });\n      } else if (typeof google != 'undefined' && google.colab.kernel != null) {\n        google.colab.kernel.comms.registerTarget(comm_id, (comm) => {\n          var messages = comm.messages[Symbol.asyncIterator]();\n          function processIteratorResult(result) {\n            var message = result.value;\n            console.log(message)\n            var content = {data: message.data, comm_id};\n            var buffers = []\n            for (var buffer of message.buffers || []) {\n              buffers.push(new DataView(buffer))\n            }\n            var metadata = message.metadata || {};\n            var msg = {content, buffers, metadata}\n            msg_handler(msg);\n            return messages.next().then(processIteratorResult);\n          }\n          return messages.next().then(processIteratorResult);\n        })\n      }\n    }\n\n    JupyterCommManager.prototype.get_client_comm = function(plot_id, comm_id, msg_handler) {\n      if (comm_id in window.PyViz.comms) {\n        return window.PyViz.comms[comm_id];\n      } else if (window.comm_manager || ((window.Jupyter !== undefined) && (Jupyter.notebook.kernel != null))) {\n        var comm_manager = window.comm_manager || Jupyter.notebook.kernel.comm_manager;\n        var comm = comm_manager.new_comm(comm_id, {}, {}, {}, comm_id);\n        if (msg_handler) {\n          comm.on_msg(msg_handler);\n        }\n      } else if ((plot_id in window.PyViz.kernels) && (window.PyViz.kernels[plot_id])) {\n        var comm = window.PyViz.kernels[plot_id].connectToComm(comm_id);\n        comm.open();\n        if (msg_handler) {\n          comm.onMsg = msg_handler;\n        }\n      } else if (typeof google != 'undefined' && google.colab.kernel != null) {\n        var comm_promise = google.colab.kernel.comms.open(comm_id)\n        comm_promise.then((comm) => {\n          window.PyViz.comms[comm_id] = comm;\n          if (msg_handler) {\n            var messages = comm.messages[Symbol.asyncIterator]();\n            function processIteratorResult(result) {\n              var message = result.value;\n              var content = {data: message.data};\n              var metadata = message.metadata || {comm_id};\n              var msg = {content, metadata}\n              msg_handler(msg);\n              return messages.next().then(processIteratorResult);\n            }\n            return messages.next().then(processIteratorResult);\n          }\n        }) \n        var sendClosure = (data, metadata, buffers, disposeOnDone) => {\n          return comm_promise.then((comm) => {\n            comm.send(data, metadata, buffers, disposeOnDone);\n          });\n        };\n        var comm = {\n          send: sendClosure\n        };\n      }\n      window.PyViz.comms[comm_id] = comm;\n      return comm;\n    }\n    window.PyViz.comm_manager = new JupyterCommManager();\n    \n\n\nvar JS_MIME_TYPE = 'application/javascript';\nvar HTML_MIME_TYPE = 'text/html';\nvar EXEC_MIME_TYPE = 'application/vnd.holoviews_exec.v0+json';\nvar CLASS_NAME = 'output';\n\n/**\n * Render data to the DOM node\n */\nfunction render(props, node) {\n  var div = document.createElement(\"div\");\n  var script = document.createElement(\"script\");\n  node.appendChild(div);\n  node.appendChild(script);\n}\n\n/**\n * Handle when a new output is added\n */\nfunction handle_add_output(event, handle) {\n  var output_area = handle.output_area;\n  var output = handle.output;\n  if ((output.data == undefined) || (!output.data.hasOwnProperty(EXEC_MIME_TYPE))) {\n    return\n  }\n  var id = output.metadata[EXEC_MIME_TYPE][\"id\"];\n  var toinsert = output_area.element.find(\".\" + CLASS_NAME.split(' ')[0]);\n  if (id !== undefined) {\n    var nchildren = toinsert.length;\n    var html_node = toinsert[nchildren-1].children[0];\n    html_node.innerHTML = output.data[HTML_MIME_TYPE];\n    var scripts = [];\n    var nodelist = html_node.querySelectorAll(\"script\");\n    for (var i in nodelist) {\n      if (nodelist.hasOwnProperty(i)) {\n        scripts.push(nodelist[i])\n      }\n    }\n\n    scripts.forEach( function (oldScript) {\n      var newScript = document.createElement(\"script\");\n      var attrs = [];\n      var nodemap = oldScript.attributes;\n      for (var j in nodemap) {\n        if (nodemap.hasOwnProperty(j)) {\n          attrs.push(nodemap[j])\n        }\n      }\n      attrs.forEach(function(attr) { newScript.setAttribute(attr.name, attr.value) });\n      newScript.appendChild(document.createTextNode(oldScript.innerHTML));\n      oldScript.parentNode.replaceChild(newScript, oldScript);\n    });\n    if (JS_MIME_TYPE in output.data) {\n      toinsert[nchildren-1].children[1].textContent = output.data[JS_MIME_TYPE];\n    }\n    output_area._hv_plot_id = id;\n    if ((window.Bokeh !== undefined) && (id in Bokeh.index)) {\n      window.PyViz.plot_index[id] = Bokeh.index[id];\n    } else {\n      window.PyViz.plot_index[id] = null;\n    }\n  } else if (output.metadata[EXEC_MIME_TYPE][\"server_id\"] !== undefined) {\n    var bk_div = document.createElement(\"div\");\n    bk_div.innerHTML = output.data[HTML_MIME_TYPE];\n    var script_attrs = bk_div.children[0].attributes;\n    for (var i = 0; i < script_attrs.length; i++) {\n      toinsert[toinsert.length - 1].childNodes[1].setAttribute(script_attrs[i].name, script_attrs[i].value);\n    }\n    // store reference to server id on output_area\n    output_area._bokeh_server_id = output.metadata[EXEC_MIME_TYPE][\"server_id\"];\n  }\n}\n\n/**\n * Handle when an output is cleared or removed\n */\nfunction handle_clear_output(event, handle) {\n  var id = handle.cell.output_area._hv_plot_id;\n  var server_id = handle.cell.output_area._bokeh_server_id;\n  if (((id === undefined) || !(id in PyViz.plot_index)) && (server_id !== undefined)) { return; }\n  var comm = window.PyViz.comm_manager.get_client_comm(\"hv-extension-comm\", \"hv-extension-comm\", function () {});\n  if (server_id !== null) {\n    comm.send({event_type: 'server_delete', 'id': server_id});\n    return;\n  } else if (comm !== null) {\n    comm.send({event_type: 'delete', 'id': id});\n  }\n  delete PyViz.plot_index[id];\n  if ((window.Bokeh !== undefined) & (id in window.Bokeh.index)) {\n    var doc = window.Bokeh.index[id].model.document\n    doc.clear();\n    const i = window.Bokeh.documents.indexOf(doc);\n    if (i > -1) {\n      window.Bokeh.documents.splice(i, 1);\n    }\n  }\n}\n\n/**\n * Handle kernel restart event\n */\nfunction handle_kernel_cleanup(event, handle) {\n  delete PyViz.comms[\"hv-extension-comm\"];\n  window.PyViz.plot_index = {}\n}\n\n/**\n * Handle update_display_data messages\n */\nfunction handle_update_output(event, handle) {\n  handle_clear_output(event, {cell: {output_area: handle.output_area}})\n  handle_add_output(event, handle)\n}\n\nfunction register_renderer(events, OutputArea) {\n  function append_mime(data, metadata, element) {\n    // create a DOM node to render to\n    var toinsert = this.create_output_subarea(\n    metadata,\n    CLASS_NAME,\n    EXEC_MIME_TYPE\n    );\n    this.keyboard_manager.register_events(toinsert);\n    // Render to node\n    var props = {data: data, metadata: metadata[EXEC_MIME_TYPE]};\n    render(props, toinsert[0]);\n    element.append(toinsert);\n    return toinsert\n  }\n\n  events.on('output_added.OutputArea', handle_add_output);\n  events.on('output_updated.OutputArea', handle_update_output);\n  events.on('clear_output.CodeCell', handle_clear_output);\n  events.on('delete.Cell', handle_clear_output);\n  events.on('kernel_ready.Kernel', handle_kernel_cleanup);\n\n  OutputArea.prototype.register_mime_type(EXEC_MIME_TYPE, append_mime, {\n    safe: true,\n    index: 0\n  });\n}\n\nif (window.Jupyter !== undefined) {\n  try {\n    var events = require('base/js/events');\n    var OutputArea = require('notebook/js/outputarea').OutputArea;\n    if (OutputArea.prototype.mime_types().indexOf(EXEC_MIME_TYPE) == -1) {\n      register_renderer(events, OutputArea);\n    }\n  } catch(err) {\n  }\n}\n"
     },
     "metadata": {},
     "output_type": "display_data"
    }
   ],
   "source": [
    "pn.extension()"
   ]
  },
  {
   "cell_type": "markdown",
   "metadata": {
    "extensions": {
     "jupyter_dashboards": {
      "version": 1,
      "views": {
       "grid_default": {},
       "report_default": {}
      }
     }
    }
   },
   "source": [
    "### Vaex Classes"
   ]
  },
  {
   "cell_type": "markdown",
   "metadata": {},
   "source": [
    "**`Deal with creation of required variables to load, generate DataFrame and render paginated Data`**"
   ]
  },
  {
   "cell_type": "code",
   "execution_count": 3,
   "metadata": {},
   "outputs": [],
   "source": [
    "class Board(param.Parameterized):\n",
    "    #Inital Class that houses the basic Dashboard params\n",
    "    \n",
    "     \n",
    "    file_path = param.String(default=\"\", doc=\"Enter File Path\")                                     # param that takes file path\n",
    "    load_file = param.Action(lambda x: x.param.trigger('load_file'))                                # param that triggers gen_df function\n",
    "    page = param.Integer(1, bounds=(1, 30))                                                         # param that takes page number\n",
    "    select_column = param.Selector(default = \"--Select Column--\", objects=['--Select Column--'])    # param that takes column to be selected for filtering\n",
    "\n",
    "    \n",
    "    def __init__(self, **params):\n",
    "        super(Board, self).__init__(**params)\n",
    "        self.df = pd.DataFrame()               # initializes empty pandas dataframe \n",
    "        self.total_length = 0                  # total length of dataframe\n",
    "        self.per_page = 30                     # records per page\n",
    "        self.last_page = 30                    # last page  \n",
    "        self.data = self.df                    # copy of dataframe subsequently used to store the filtered dataframe\n",
    "        self.data_page = self.df               # initializes the variable subsequently used for current page of dataframe\n",
    "        \n",
    "        \n",
    "    #Generate DataFrame    \n",
    "    @param.depends('load_file')\n",
    "    def gen_df(self):\n",
    "        if self.file_path != \"\":\n",
    "            self.df = vaex.open(str(self.file_path))                                     # loads the file as a vaex dataframe\n",
    "            self.total_length = len(self.df)                                             # modifies total length variable\n",
    "            self.last_page = math.ceil(len(self.df) / 30)                                # modifies last page variable based on file size\n",
    "            self.param.page.bounds = (1, self.last_page)                                 # modifies upper bound of page param based on size of dataframe\n",
    "            self.param.select_column.default = self.df.get_column_names()[0]             # modifies the default value of the select column param\n",
    "            self.param.select_column.objects = list(self.df.get_column_names())          # modifies the objects listed as part of the select column param \n",
    "            self.data = self.df                                                          # replaces data variable with the newly loaded data \n",
    "            self.data_page = self.df.take(range(0, self.per_page)).to_pandas_df()        # slices the loaded dataframe and passes the scliced dataframe to data page variable\n",
    "\n",
    "    \n",
    "    # following function is triggered on page change\n",
    "    @param.depends('page')\n",
    "    def paginate(self):\n",
    "        if self.file_path != \"\":\n",
    "            self.from_item = ((self.page) - 1) * 30                                             # calculates starting index for current page     \n",
    "            self.to_item = (self.page * 30)                                                     # calculates ending index for current page \n",
    "            self.data_page = self.data.take(range(self.from_item, self.to_item)).to_pandas_df() # slices the datframe to get records for current page\n",
    "            df_widget = pn.widgets.DataFrame(self.data_page, name= 'DataSlice', width=1200)     # feeds the sliced dataframe to dataframe widget\n",
    "            return df_widget\n",
    "    \n",
    "    @param.depends('load_file')\n",
    "    def view(self):\n",
    "        return pn.Row(self.gen_df, self.paginate)    #renders generated df and calls the paginate function\n",
    "        "
   ]
  },
  {
   "cell_type": "markdown",
   "metadata": {},
   "source": [
    "**`Deal with generation of Filters and Queries used to Slice the DataFrame`**"
   ]
  },
  {
   "cell_type": "code",
   "execution_count": 4,
   "metadata": {},
   "outputs": [],
   "source": [
    "class Filter(Board):\n",
    "     # Class Deals with Filtering the dataframe\n",
    "        \n",
    "    query = param.String(default=\"\", doc=\"Query\")                        # param that takes filter to be applied to the column selected\n",
    "    add_filter = param.Action(lambda x: x.param.trigger('add_filter'))   # param that triggers add_query function\n",
    "\n",
    "    _filters = {}                                                        # dict that stores all the queries\n",
    "\n",
    "    \n",
    "    # Function that adds the name of column as key to _filters dict every time a new column in selected\n",
    "    @param.depends('select_column')                                      \n",
    "    def new_query(self):\n",
    "        self.query = \"\"\n",
    "        if self.select_column not in self._filters.keys():\n",
    "            self._filters[self.select_column] = []\n",
    "    \n",
    "    # adds the query string used to filter the selected column to _filters dict \n",
    "    @param.depends('add_filter')\n",
    "    def add_query(self):\n",
    "        if self.select_column not in self._filters.keys():\n",
    "            self._filters[self.select_column] = []                          # initializes empty list to house the queries for the column selected \n",
    "        if self.select_column in self._filters.keys():                       \n",
    "            if self.query not in self._filters[self.select_column]:         # if the enetered query of filter is not in list of queries for the selected column    \n",
    "                self._filters[self.select_column].append(self.query)        # appends it to the list of queries\n",
    "        if self.select_column in self._filters.keys() and self.query==\"\":   # if you select a column with the keu already in the filters dict and add a null string \n",
    "            self._filters[self.select_column] = []                          # clears the list of queries for the slected column"
   ]
  },
  {
   "cell_type": "markdown",
   "metadata": {},
   "source": [
    "Helper Function to extract individual filter objects from the dict of filters"
   ]
  },
  {
   "cell_type": "code",
   "execution_count": 5,
   "metadata": {},
   "outputs": [],
   "source": [
    "def extract_val(dictionary):\n",
    "    ''' \n",
    "    \n",
    "    This function extracts the individual values that can be applied as filters to a particular column from the filters dict. \n",
    "    Essentially creates a list where each item is a value that can be used to filter a column using slicing.\n",
    "    \n",
    "    NOT yet configured for use with ge and lt operators.\n",
    "    \n",
    "    '''\n",
    "    \n",
    "    vaex_filter_list = []\n",
    "    for key, values in dictionary.items():\n",
    "        if values != []:\n",
    "            query_str = \"\"\n",
    "            for value in values:\n",
    "                if ',' in value:\n",
    "                    for item in value.split(', '):\n",
    "                        query_str += '(' + key +'=='+ item +')|'\n",
    "                    query_str = query_str[:-1]\n",
    "                else:\n",
    "                    query_str += '(' + key +'=='+ value +')'\n",
    "            vaex_filter_list.append(query_str)\n",
    "    return vaex_filter_list"
   ]
  },
  {
   "cell_type": "markdown",
   "metadata": {},
   "source": [
    "**`Deal with slicing the dataframe using the queries and downloading the sliced dataframe`**"
   ]
  },
  {
   "cell_type": "code",
   "execution_count": 6,
   "metadata": {},
   "outputs": [],
   "source": [
    "class Slice(Filter):\n",
    "    \n",
    "    query_string = param.String(default=\"\", doc=\"Query String\")              # param that displays the consolidated string of queries applied to the dataframe\n",
    "    apply_filter = param.Action(lambda x: x.param.trigger('apply_filter'))   # triggers the create_query_str function that also filters the dataframe\n",
    "    download_file = param.Action(lambda x: x.param.trigger('download_file')) # download file button\n",
    "    \n",
    "    \n",
    "    @param.depends('apply_filter')\n",
    "    def create_query_st(self):\n",
    "        qs = \"\".join(extract_val(self._filters))         # creates consolidates query string\n",
    "        self.query_string = qs                           \n",
    "        if qs != \"\":\n",
    "            for i in extract_val(self._filters):         # iteratively applies each item from list of filters to slice the dataframe \n",
    "                self.data = self.data[self.data[i]]      \n",
    "        else:\n",
    "            self.data = self.df\n",
    "            \n",
    "    @param.depends('download_file')\n",
    "    def export_data(self):\n",
    "        self.data.export(f'data_.hdf5')"
   ]
  },
  {
   "cell_type": "markdown",
   "metadata": {},
   "source": [
    "### Initiate Our Class render the Panel objects"
   ]
  },
  {
   "cell_type": "code",
   "execution_count": 7,
   "metadata": {},
   "outputs": [],
   "source": [
    "Slicer = Slice()"
   ]
  },
  {
   "cell_type": "code",
   "execution_count": 8,
   "metadata": {},
   "outputs": [],
   "source": [
    "svatdash = pn.Row(pn.Column(Slicer.param.file_path,\n",
    "                            Slicer.param.load_file,\n",
    "                            Slicer.param.download_file\n",
    "                            ), \n",
    "                  Slicer.view,\n",
    "                  pn.Column(Slicer.param.select_column,\n",
    "                            Slicer.param.query,\n",
    "                            Slicer.param.add_filter,\n",
    "                            Slicer.param.query_string,\n",
    "                            Slicer.param.apply_filter,\n",
    "                            Slicer.param.page,\n",
    "                            Slicer.new_query, Slicer.add_query, Slicer.create_query_st\n",
    "                            )\n",
    "                  )"
   ]
  },
  {
   "cell_type": "code",
   "execution_count": 20,
   "metadata": {},
   "outputs": [
    {
     "name": "stdout",
     "output_type": "stream",
     "text": [
      "(State=='Maharashtra')|(State=='Bihar')\n",
      "(Tmax==21)\n"
     ]
    }
   ],
   "source": [
    "for i in extract_val(Slicer._filters):\n",
    "    print(i)"
   ]
  },
  {
   "cell_type": "code",
   "execution_count": 10,
   "metadata": {},
   "outputs": [
    {
     "data": {},
     "metadata": {},
     "output_type": "display_data"
    },
    {
     "data": {
      "application/vnd.holoviews_exec.v0+json": "",
      "text/html": [
       "<div id='1147'>\n",
       "\n",
       "\n",
       "\n",
       "\n",
       "\n",
       "  <div class=\"bk-root\" id=\"a2570ca4-87df-4741-ac79-e3671c680314\" data-root-id=\"1147\"></div>\n",
       "</div>\n",
       "<script type=\"application/javascript\">(function(root) {\n",
       "  function embed_document(root) {\n",
       "    var docs_json = {\"38a5bede-c49a-4e78-8d7d-ed904ffe88f0\":{\"roots\":{\"references\":[{\"attributes\":{},\"id\":\"1195\",\"type\":\"NumberEditor\"},{\"attributes\":{},\"id\":\"1180\",\"type\":\"NumberEditor\"},{\"attributes\":{},\"id\":\"1205\",\"type\":\"NumberEditor\"},{\"attributes\":{},\"id\":\"1250\",\"type\":\"IntEditor\"},{\"attributes\":{\"margin\":[5,5,5,5],\"name\":\"Str00066\"},\"id\":\"1274\",\"type\":\"panel.models.markup.HTML\"},{\"attributes\":{\"editor\":{\"id\":\"1175\"},\"field\":\"Year\",\"formatter\":{\"id\":\"1174\"},\"title\":\"Year\"},\"id\":\"1176\",\"type\":\"TableColumn\"},{\"attributes\":{\"editor\":{\"id\":\"1205\"},\"field\":\"TempDetrended\",\"formatter\":{\"id\":\"1204\"},\"title\":\"TempDetrended\"},\"id\":\"1206\",\"type\":\"TableColumn\"},{\"attributes\":{},\"id\":\"1170\",\"type\":\"StringEditor\"},{\"attributes\":{},\"id\":\"1169\",\"type\":\"StringFormatter\"},{\"attributes\":{\"format\":\"0,0.0[00000]\"},\"id\":\"1204\",\"type\":\"NumberFormatter\"},{\"attributes\":{\"editor\":{\"id\":\"1250\"},\"field\":\"time\",\"formatter\":{\"id\":\"1249\"},\"title\":\"time\"},\"id\":\"1251\",\"type\":\"TableColumn\"},{\"attributes\":{\"format\":\"0,0.0[00000]\"},\"id\":\"1214\",\"type\":\"NumberFormatter\"},{\"attributes\":{\"columns\":[{\"id\":\"1161\"},{\"id\":\"1166\"},{\"id\":\"1171\"},{\"id\":\"1176\"},{\"id\":\"1181\"},{\"id\":\"1186\"},{\"id\":\"1191\"},{\"id\":\"1196\"},{\"id\":\"1201\"},{\"id\":\"1206\"},{\"id\":\"1211\"},{\"id\":\"1216\"},{\"id\":\"1221\"},{\"id\":\"1226\"},{\"id\":\"1231\"},{\"id\":\"1236\"},{\"id\":\"1241\"},{\"id\":\"1246\"},{\"id\":\"1251\"},{\"id\":\"1256\"}],\"editable\":true,\"height\":780,\"index_position\":null,\"margin\":[5,10,5,10],\"name\":\"DataSlice\",\"source\":{\"id\":\"1157\"},\"view\":{\"id\":\"1260\"},\"width\":1200},\"id\":\"1259\",\"type\":\"DataTable\"},{\"attributes\":{},\"id\":\"1249\",\"type\":\"NumberFormatter\"},{\"attributes\":{\"format\":\"0,0.0[00000]\"},\"id\":\"1234\",\"type\":\"NumberFormatter\"},{\"attributes\":{\"editor\":{\"id\":\"1180\"},\"field\":\"RICE_Y\",\"formatter\":{\"id\":\"1179\"},\"title\":\"RICE_Y\"},\"id\":\"1181\",\"type\":\"TableColumn\"},{\"attributes\":{},\"id\":\"1165\",\"type\":\"IntEditor\"},{\"attributes\":{\"margin\":[5,10,5,10],\"title\":\"Query string\"},\"id\":\"1266\",\"type\":\"TextInput\"},{\"attributes\":{},\"id\":\"1220\",\"type\":\"NumberEditor\"},{\"attributes\":{},\"id\":\"1245\",\"type\":\"NumberEditor\"},{\"attributes\":{\"editor\":{\"id\":\"1165\"},\"field\":\"Unnamed: 0\",\"formatter\":{\"id\":\"1164\"},\"title\":\"Unnamed: 0\"},\"id\":\"1166\",\"type\":\"TableColumn\"},{\"attributes\":{\"client_comm_id\":\"e0d79553087e43ba887d8bc0a898256e\",\"comm_id\":\"1094e17206914eeeb710ac088983a613\",\"plot_id\":\"1147\"},\"id\":\"1281\",\"type\":\"panel.models.comm_manager.CommManager\"},{\"attributes\":{\"editor\":{\"id\":\"1245\"},\"field\":\"PrecipDetrended_sqd\",\"formatter\":{\"id\":\"1244\"},\"title\":\"PrecipDetrended_sqd\"},\"id\":\"1246\",\"type\":\"TableColumn\"},{\"attributes\":{\"children\":[{\"id\":\"1153\"}],\"margin\":[0,0,0,0],\"name\":\"Row00074\"},\"id\":\"1152\",\"type\":\"Row\"},{\"attributes\":{\"format\":\"0,0.0[00000]\"},\"id\":\"1194\",\"type\":\"NumberFormatter\"},{\"attributes\":{\"margin\":[5,10,5,10],\"title\":\"Query\"},\"id\":\"1264\",\"type\":\"TextInput\"},{\"attributes\":{\"format\":\"0,0.0[00000]\"},\"id\":\"1229\",\"type\":\"NumberFormatter\"},{\"attributes\":{\"children\":[{\"id\":\"1270\"}],\"margin\":[0,0,0,0],\"name\":\"Row00058\"},\"id\":\"1269\",\"type\":\"Row\"},{\"attributes\":{\"editor\":{\"id\":\"1170\"},\"field\":\"State\",\"formatter\":{\"id\":\"1169\"},\"title\":\"State\"},\"id\":\"1171\",\"type\":\"TableColumn\"},{\"attributes\":{},\"id\":\"1225\",\"type\":\"NumberEditor\"},{\"attributes\":{\"format\":\"0,0.0[00000]\"},\"id\":\"1179\",\"type\":\"NumberFormatter\"},{\"attributes\":{\"editor\":{\"id\":\"1220\"},\"field\":\"Tmax_sqd\",\"formatter\":{\"id\":\"1219\"},\"title\":\"Tmax_sqd\"},\"id\":\"1221\",\"type\":\"TableColumn\"},{\"attributes\":{\"format\":\"0,0.0[00000]\"},\"id\":\"1219\",\"type\":\"NumberFormatter\"},{\"attributes\":{},\"id\":\"1200\",\"type\":\"NumberEditor\"},{\"attributes\":{\"children\":[{\"id\":\"1154\"},{\"id\":\"1156\"}],\"margin\":[0,0,0,0],\"name\":\"Row00085\"},\"id\":\"1153\",\"type\":\"Row\"},{\"attributes\":{\"icon\":null,\"label\":\"Add filter\",\"margin\":[5,10,5,10],\"subscribed_events\":[\"button_click\"]},\"id\":\"1265\",\"type\":\"Button\"},{\"attributes\":{\"editor\":{\"id\":\"1200\"},\"field\":\"Rainfall\",\"formatter\":{\"id\":\"1199\"},\"title\":\"Rainfall\"},\"id\":\"1201\",\"type\":\"TableColumn\"},{\"attributes\":{\"format\":\"0,0.0[00000]\"},\"id\":\"1224\",\"type\":\"NumberFormatter\"},{\"attributes\":{\"children\":[{\"id\":\"1148\"},{\"id\":\"1152\"},{\"id\":\"1262\"}],\"margin\":[0,0,0,0],\"name\":\"Row00087\"},\"id\":\"1147\",\"type\":\"Row\"},{\"attributes\":{},\"id\":\"1261\",\"type\":\"Selection\"},{\"attributes\":{\"children\":[{\"id\":\"1155\"}],\"margin\":[0,0,0,0],\"name\":\"Row00105\"},\"id\":\"1154\",\"type\":\"Row\"},{\"attributes\":{\"icon\":null,\"label\":\"Download file\",\"margin\":[5,10,5,10],\"subscribed_events\":[\"button_click\"]},\"id\":\"1151\",\"type\":\"Button\"},{\"attributes\":{\"children\":[{\"id\":\"1259\"}],\"margin\":[0,0,0,0],\"name\":\"Row00110\"},\"id\":\"1156\",\"type\":\"Row\"},{\"attributes\":{},\"id\":\"1175\",\"type\":\"IntEditor\"},{\"attributes\":{},\"id\":\"1275\",\"type\":\"UnionRenderers\"},{\"attributes\":{},\"id\":\"1235\",\"type\":\"NumberEditor\"},{\"attributes\":{\"editor\":{\"id\":\"1255\"},\"field\":\"time_sq\",\"formatter\":{\"id\":\"1254\"},\"title\":\"time_sq\"},\"id\":\"1256\",\"type\":\"TableColumn\"},{\"attributes\":{\"children\":[{\"id\":\"1149\"},{\"id\":\"1150\"},{\"id\":\"1151\"}],\"margin\":[0,0,0,0],\"name\":\"Column00023\"},\"id\":\"1148\",\"type\":\"Column\"},{\"attributes\":{},\"id\":\"1255\",\"type\":\"IntEditor\"},{\"attributes\":{\"margin\":[5,5,5,5],\"name\":\"Str00103\"},\"id\":\"1155\",\"type\":\"panel.models.markup.HTML\"},{\"attributes\":{\"format\":\"0,0.0[00000]\"},\"id\":\"1199\",\"type\":\"NumberFormatter\"},{\"attributes\":{\"margin\":[5,10,5,10],\"title\":\"File path\",\"value\":\"../data/rice_q1.csv\"},\"id\":\"1149\",\"type\":\"TextInput\"},{\"attributes\":{},\"id\":\"1160\",\"type\":\"CellEditor\"},{\"attributes\":{},\"id\":\"1210\",\"type\":\"NumberEditor\"},{\"attributes\":{\"editor\":{\"id\":\"1185\"},\"field\":\"Tmax\",\"formatter\":{\"id\":\"1184\"},\"title\":\"Tmax\"},\"id\":\"1186\",\"type\":\"TableColumn\"},{\"attributes\":{\"editor\":{\"id\":\"1190\"},\"field\":\"Tmin\",\"formatter\":{\"id\":\"1189\"},\"title\":\"Tmin\"},\"id\":\"1191\",\"type\":\"TableColumn\"},{\"attributes\":{},\"id\":\"1174\",\"type\":\"NumberFormatter\"},{\"attributes\":{\"format\":\"0,0.0[00000]\"},\"id\":\"1189\",\"type\":\"NumberFormatter\"},{\"attributes\":{\"editor\":{\"id\":\"1160\"},\"field\":\"index\",\"formatter\":{\"id\":\"1158\"},\"title\":\"index\"},\"id\":\"1161\",\"type\":\"TableColumn\"},{\"attributes\":{\"icon\":null,\"label\":\"Apply filter\",\"margin\":[5,10,5,10],\"subscribed_events\":[\"button_click\"]},\"id\":\"1267\",\"type\":\"Button\"},{\"attributes\":{},\"id\":\"1185\",\"type\":\"NumberEditor\"},{\"attributes\":{\"format\":\"0,0.0[00000]\"},\"id\":\"1244\",\"type\":\"NumberFormatter\"},{\"attributes\":{\"editor\":{\"id\":\"1195\"},\"field\":\"Temp\",\"formatter\":{\"id\":\"1194\"},\"title\":\"Temp\"},\"id\":\"1196\",\"type\":\"TableColumn\"},{\"attributes\":{\"data\":{\"Log_Y\":{\"__ndarray__\":\"+L7NgV7SG0DUZj4A6KUbQCO7F9N/zBpAXyjdOAlAG0Clz1qe2rcaQEwFZ9KxYRtAbCM3aYx5G0AAiCYMHJsbQKeqWHCOjRpAGTJbIiinG0AVv32cggQbQGAQ5zMXghpAyFrCd9i5G0AQY4AxevUbQJp8DIzNYBxA4F87EERzHEBzqpmVWmUbQLsoLZcLshxAWPtZtTygHEA/972vx6ocQCjFq2E+txtAg1AFHo/1GkCOqgNNNwUdQCXlbac23BxAHkqKuBboHEDCOGCvNHUdQD+RIle/OR1AG1ip/r4gHUD4uYu22rMeQADmvRT2OB1A\",\"dtype\":\"float64\",\"order\":\"little\",\"shape\":[30]},\"PrecipDetrended\":{\"__ndarray__\":\"C/XNN7AXm0B4XidlpDOQQFnkRwQ1eJhAMLQHmI/kl0Bmj32MdUOVQMGMFaP9IpZA8AzbkYimlkCUqWfyr0+WQEyytWlDiJRAJIJ1/Z3pmECA2r0ZgbWVQHbMn8/9EpFAFA58KspRlUDgJ9uyboSZQPk734qNbppAcluZw7fnmEDI/YDUZD2eQEZ46xLqRJZAbEJQ9r6Bl0BYftGghfGUQP91DgcIWpRAiabZUMN6kUBm0Unq+K+WQKhiIOqU0JJAJYLaIr+7lkBxyREukb6WQIAntfp5f5lAIMRBWyHqmEBBM/Y4my2cQKtBn2C0r5VA\",\"dtype\":\"float64\",\"order\":\"little\",\"shape\":[30]},\"PrecipDetrended_sqd\":{\"__ndarray__\":\"zitG5wrwRkEUtOx472cwQebHYxQTtkJBZNpF6+7WQUF7z6H8MEI8QbAaJQaGoD5Bz0y9c14IQEHypqW7sBw/QaFWZwMxWTpBVkn3gxZlQ0E9dIrgfXQ9Qav6AORxODJBLz5uyFRoPEHh7zgKEVlEQVuSN/Ej1UVBGUmdjiFiQ0FIvRnYkpNMQbzFCIes/j5B89ookpBEQUHFavTfC2o7Qb+Q96sO4zlBY72v94wYM0F6PTj0vRVAQbgg+jPuHzZB+XRJVnQmQEH3Me59dipAQUgDwmkqUURBQA3cEONlQ0FY/i+jENBIQWEoVf/CZD1B\",\"dtype\":\"float64\",\"order\":\"little\",\"shape\":[30]},\"Precip_sqd\":{\"__ndarray__\":\"nLBT4kIGQEGh9YG8DzkhQQiU5Syy+ThBZ8ufNEeEN0EY3LtyWYoxQYDzaiK8YTNBfPNqhlx+NEETgQvhprIzQdj8sNAq1S9BoEBZMiPQOUGKZ0VnV0gyQenLO5cwYiNBJp4VUbZkMUGaeFZYCDU7QTja8jcBmj1BIQHfYNyNOUEM+OZdDmJEQVeDyVqsQTNBcRzHgdoHNkEjAd/MvmQwQTYrGomQXy5BKVIGvlkpJEHTrfmlDwI0QS7ZukpYgyhBUNgpkVAKNEFhe7BQlAc0QW1+WIjZnzpBbxzHAdwZOUFvXk0utPJAQbT8CYlkmTFB\",\"dtype\":\"float64\",\"order\":\"little\",\"shape\":[30]},\"RICE_Y\":{\"__ndarray__\":\"S8PYn1pjkEDnV/JTLGKPQBONEaVWYYlANZ8b52FpjEDAGNGBp9+IQJ4XxNRtXI1AasSq9ZMNjkA0BcKf6A2PQC2GdyD93YdAzLU4lv1rj0Bm2PNJoc6KQL+CceP0mYdAgHAx5BIAkEAE2nzrr/WQQKWrhU9x1ZJA1K3zqiktk0DuN9s2VneNQPLmjRuNY5RAwDykYpAJlEC2YsNSpj6UQBzxwcJb649AhKS0lyhrikAegdDNLh2WQLaa7pH6PpVA/Q/V4mt+lUAI1mBbcauYQARU8lMuR5dAyDnDdHK3lkCvC5egZtagQFKjy4ubQpdA\",\"dtype\":\"float64\",\"order\":\"little\",\"shape\":[30]},\"Rainfall\":{\"__ndarray__\":\"YQu2YAullkA96ZM+6XmHQFD6pE96/ZNA9Emf9Mllk0D6pE/6pMCQQCQiIiIinJFAIiIiIqIbkkCVPumTvsCRQDmO4ziO6o9AxBZswZZSlEDv7u7ubhqRQGvBFmzB54hAIiIiIqKukEC8u7u7O92UQKZP+qRPw5VA7+7u7m44lEASEREREYqZQGALtmCLjZFAVVVVVVXGkkARERERETKQQA4RERERLY9AxXEcx3FmiUCP4ziOY+SRQD3pkz7pAYxA6ZM+6RPokUAFW7AF2+aRQOQ4juO4o5RAVFVVVVUKlEBERERExEmXQHzSJ33Sx5BA\",\"dtype\":\"float64\",\"order\":\"little\",\"shape\":[30]},\"State\":[\"Bihar\",\"Bihar\",\"Bihar\",\"Bihar\",\"Bihar\",\"Bihar\",\"Bihar\",\"Bihar\",\"Bihar\",\"Bihar\",\"Bihar\",\"Bihar\",\"Bihar\",\"Bihar\",\"Bihar\",\"Bihar\",\"Bihar\",\"Bihar\",\"Bihar\",\"Bihar\",\"Bihar\",\"Bihar\",\"Bihar\",\"Bihar\",\"Bihar\",\"Bihar\",\"Bihar\",\"Bihar\",\"Bihar\",\"Bihar\"],\"Temp\":{\"__ndarray__\":\"8UsYGVhZOUD4zkXx2l46QIjrUJLABjpAZzioHAsJOkAC1YZoDtc5QK8XTcptCTpA2O9xj6ooOkCkmOdEEDI6QNtVIeOwBztA3fEE7YotOkBeDY3ttBM6QAOk+w23AzpA7I2fCcViOkAmmpTbwpE5QCQvJ7FE3DlAa8wVumzVOUBuosFam3I6QAbiuqv+JjpA85bHysazOUB9bk+2db45QNSePTc/1TlAqrAa1qsYOkAcw2Wa2PI5QGlvML/MIzpA4PAj5DMoOkC2ExKUsdQ5QPECuJUA+zlARgvlFNnjOkAIwzbmCgU6QCUrjhLtIzpA\",\"dtype\":\"float64\",\"order\":\"little\",\"shape\":[30]},\"TempDetrended\":{\"__ndarray__\":\"PI3+DMevOEBuXuEMNbQ5QCrJodUFWzlAN2SuhztcOUAAT0L7KSk5QNbfvYR0WjlALQaYcZx4OUAl/cJO7YA5QIkIshR5VTpAtPJKRj56OUBlXIhuU185QDdBrLZATjlATXkF2jmsOUCz06/TIto4QN2299CPIzlAUaKbAaMbOUCAxvzJvLc5QEZUq0ILazlAX1dtib72OEAYfaqcWAA5QJn7TUUNFjlAnFvgC2VYOUA6vOD3fDE5QLO2YERcYTlAVYYJka5kOUBa96xoFxA5QME0CJJRNTlAQ4vqOBUdOkAxkfExMj05QHxH/oX/WjlA\",\"dtype\":\"float64\",\"order\":\"little\",\"shape\":[30]},\"TempDetrended_sqd\":{\"__ndarray__\":\"pB1yIXALg0Ck/Ui5iaWEQM/i/AY8F4RA52W72iYZhEDmiGKMhsiDQFKee8BVFoRA8lLOCTtGhEDcmmY8elOEQD1kqQ7Jq4VAskcmSdRIhEDk4O5UDh6EQGmMankEA4RA4N74UrmYhEB/4DE4A02DQJOEoju4v4NAojzUkEazg0CZ+zr3NauEQNCDfaunMIRAbXYTZIx5g0AexL91ioiDQD2lju6DqoNAF/SODxIThEDnTu7Ln9WDQIqxP2NIIYRAR6lhiY0mhEBFDwirLKGDQIF7MEuo24NAgF4C61xPhUA3mLZ1E+iDQLhnpwYyF4RA\",\"dtype\":\"float64\",\"order\":\"little\",\"shape\":[30]},\"Temp_sqd\":{\"__ndarray__\":\"6Bc0GpMUhEDn6DT0PLuFQHw7gVr6KoVAFFbVnLQuhUBtvfXMq92EQAbB9y9VL4VANNkM10hihUBD8dfCqHGFQDJofVj81IZAEco9kkJqhUCPRN4kEkCFQKqxIuUJJoVAY3Y7C7HBhUDdr6BpWG6EQCyJ5IUX5oRA5r2gUwnbhEDLg1Pp1tuFQPNU0luNX4VALmenmdikhEAaDWKEBbaEQGCOXNi/2oRA8kRHQSpIhUBKaxhjpQqFQB/5rsNUWoVA0+bI1IZhhUAKnx8s29mEQAM+HLvhF4VAUkeNF5eYhkBlpISBMiiFQAH4m5OJWoVA\",\"dtype\":\"float64\",\"order\":\"little\",\"shape\":[30]},\"Tmax\":{\"__ndarray__\":\"6PWDUhATPkCoC5wnOaM/QAGRKOv3xz5A61CSwAYvP0Dr9tc+/t4+QATGHTDZVT9ArIfrrvrrPkC8znSlqOQ+QP9hdB1KGkBAwPjIBHrnPkC7COSROFg/QO5K8+A3Wz9Apr4V6SC7P0C8Lb5JW6U+QEEop8ge4z5AYqxsvFjlPkC/MSg05ac/QLhDjTHkZD9An99wO776PkAFCVd1zx4/QA7KKbLHDD9AI+ypPIWKP0BhB79ZGCo/QBmtCZbmET9ASSV8T4dxP0ACnMnQBzM/QKjk0KmanT5A593d3d1NP0Bqoh/DNrY+QC9R1u/PNz9A\",\"dtype\":\"float64\",\"order\":\"little\",\"shape\":[30]},\"Tmax_sqd\":{\"__ndarray__\":\"Ir0h9slDjECZ8WdLf0ePQHCV6XPSm41AU5fyMGJjjkCZ6WClLsiNQLJiyxw7r45AlpKOOULhjUDBkOkcHtONQOfOH22/NJBAaixvNI/YjUBTODDS4LOOQFpcCErAuY5AUShgDNZ2j0AJe7GgYVmNQCnMFbUl0I1AR6dKIHLUjUC79sf7vFCPQIWokji4zI5AOEk/cNH9jUBvnJWdz0OOQJjK1APIII5A0DPfxLkWj0BbO+CNxlmOQDO5L8a4Ko5Acwze74jljkCRCXKFMGuOQICE9TaKSo1ANuCbV5ufjkCNjyQ9tHmNQOnbvjiEdI5A\",\"dtype\":\"float64\",\"order\":\"little\",\"shape\":[30]},\"Tmin\":{\"__ndarray__\":\"U6Ks35+fNEBEku+6fBo1QB5GeTmJRTVAGCC+eA/jNEDssjWSHs80QEZpfGQCvTRABFj4b1plNUBNYlrkd381QMvnWYvN2jVApOpA1ZtzNUAYEjZJMc80QM/8Azs2rDRASV0pKmkKNUCFBmttKn40QOA1p5lq1TRAZey+t4DFNEBPE1uBUT01QAOA6CUZ6TRATU4eWs9sNEA11Ef3G140QLhzUby2nTRAFnWLb9KmNEB6fgzbmLs0QLYxV+iyNTVAlLzLeODeNEAji1pXW3Y0QCEhn4FmWDVAozjsS9R5NkDk400J31M1QGEFRjUKEDVA\",\"dtype\":\"float64\",\"order\":\"little\",\"shape\":[30]},\"Tmin_sqd\":{\"__ndarray__\":\"p5bqLkiVekCWxOBDs9V7QBb3Bmu2R3xA/Vjs9DxEe0BE1seURRB7QPtdvcM+4XpAHrWwbY+cfEBhvjg6kuJ8QP7ZMbkL2n1AAazRZbzCfEAKVuVCdhB7QPScNiLFtXpAX4LU1Fqre0BQZzfuTD96QFdEIympIHtAppAVwUf3ekD0mqjy4DF8QGjaXMsCVHtArYoLW+oSekAGAP5yb+15QLBkInFbkHpAiuU2cNmnekDjzVOuld16QOmi+NqpHXxA/KZiz1E5e0DjRrTfTyt6QCpGZH71eXxA9c3GdqeSf0CyEZIe4W18QHLdSOAquntA\",\"dtype\":\"float64\",\"order\":\"little\",\"shape\":[30]},\"Unnamed: 0\":[0,1,2,3,4,5,6,7,8,9,10,11,12,13,14,15,16,17,18,19,20,21,22,23,24,25,26,27,28,29],\"Year\":[1971,1972,1973,1974,1975,1976,1977,1978,1979,1980,1981,1982,1983,1984,1985,1986,1987,1988,1989,1990,1991,1992,1993,1994,1995,1996,1997,1998,1999,2000],\"index\":[0,1,2,3,4,5,6,7,8,9,10,11,12,13,14,15,16,17,18,19,20,21,22,23,24,25,26,27,28,29],\"time\":[0,1,2,3,4,5,6,7,8,9,10,11,12,13,14,15,16,17,18,19,20,21,22,23,24,25,26,27,28,29],\"time_sq\":[0,1,4,9,16,25,36,49,64,81,100,121,144,169,196,225,256,289,324,361,400,441,484,529,576,625,676,729,784,841]},\"selected\":{\"id\":\"1261\"},\"selection_policy\":{\"id\":\"1275\"}},\"id\":\"1157\",\"type\":\"ColumnDataSource\"},{\"attributes\":{},\"id\":\"1190\",\"type\":\"NumberEditor\"},{\"attributes\":{\"format\":\"0,0.0[00000]\"},\"id\":\"1209\",\"type\":\"NumberFormatter\"},{\"attributes\":{\"margin\":[5,10,5,10],\"options\":[[\"Unnamed: 0\",\"Unnamed: 0\"],[\"State\",\"State\"],[\"Year\",\"Year\"],[\"RICE_Y\",\"RICE_Y\"],[\"Tmax\",\"Tmax\"],[\"Tmin\",\"Tmin\"],[\"Temp\",\"Temp\"],[\"Rainfall\",\"Rainfall\"],[\"TempDetrended\",\"TempDetrended\"],[\"PrecipDetrended\",\"PrecipDetrended\"],[\"Log_Y\",\"Log_Y\"],[\"Tmax_sqd\",\"Tmax_sqd\"],[\"Tmin_sqd\",\"Tmin_sqd\"],[\"Temp_sqd\",\"Temp_sqd\"],[\"Precip_sqd\",\"Precip_sqd\"],[\"TempDetrended_sqd\",\"TempDetrended_sqd\"],[\"PrecipDetrended_sqd\",\"PrecipDetrended_sqd\"],[\"time\",\"time\"],[\"time_sq\",\"time_sq\"]],\"title\":\"Select column\",\"value\":\"Unnamed: 0\"},\"id\":\"1263\",\"type\":\"Select\"},{\"attributes\":{},\"id\":\"1240\",\"type\":\"NumberEditor\"},{\"attributes\":{\"children\":[{\"id\":\"1274\"}],\"margin\":[0,0,0,0],\"name\":\"Row00068\"},\"id\":\"1273\",\"type\":\"Row\"},{\"attributes\":{\"format\":\"0,0.0[00000]\"},\"id\":\"1239\",\"type\":\"NumberFormatter\"},{\"attributes\":{},\"id\":\"1230\",\"type\":\"NumberEditor\"},{\"attributes\":{\"editor\":{\"id\":\"1240\"},\"field\":\"TempDetrended_sqd\",\"formatter\":{\"id\":\"1239\"},\"title\":\"TempDetrended_sqd\"},\"id\":\"1241\",\"type\":\"TableColumn\"},{\"attributes\":{\"end\":7,\"format\":\"0[.]00\",\"margin\":[5,10,5,10],\"start\":1,\"title\":\"Page\",\"value\":1,\"value_throttled\":1},\"id\":\"1268\",\"type\":\"Slider\"},{\"attributes\":{\"source\":{\"id\":\"1157\"}},\"id\":\"1260\",\"type\":\"CDSView\"},{\"attributes\":{},\"id\":\"1158\",\"type\":\"NumberFormatter\"},{\"attributes\":{\"editor\":{\"id\":\"1210\"},\"field\":\"PrecipDetrended\",\"formatter\":{\"id\":\"1209\"},\"title\":\"PrecipDetrended\"},\"id\":\"1211\",\"type\":\"TableColumn\"},{\"attributes\":{\"editor\":{\"id\":\"1225\"},\"field\":\"Tmin_sqd\",\"formatter\":{\"id\":\"1224\"},\"title\":\"Tmin_sqd\"},\"id\":\"1226\",\"type\":\"TableColumn\"},{\"attributes\":{\"editor\":{\"id\":\"1230\"},\"field\":\"Temp_sqd\",\"formatter\":{\"id\":\"1229\"},\"title\":\"Temp_sqd\"},\"id\":\"1231\",\"type\":\"TableColumn\"},{\"attributes\":{},\"id\":\"1164\",\"type\":\"NumberFormatter\"},{\"attributes\":{\"margin\":[5,5,5,5],\"name\":\"Str00056\"},\"id\":\"1270\",\"type\":\"panel.models.markup.HTML\"},{\"attributes\":{},\"id\":\"1254\",\"type\":\"NumberFormatter\"},{\"attributes\":{\"margin\":[5,5,5,5],\"name\":\"Str00061\"},\"id\":\"1272\",\"type\":\"panel.models.markup.HTML\"},{\"attributes\":{},\"id\":\"1215\",\"type\":\"NumberEditor\"},{\"attributes\":{\"children\":[{\"id\":\"1263\"},{\"id\":\"1264\"},{\"id\":\"1265\"},{\"id\":\"1266\"},{\"id\":\"1267\"},{\"id\":\"1268\"},{\"id\":\"1269\"},{\"id\":\"1271\"},{\"id\":\"1273\"}],\"margin\":[0,0,0,0],\"name\":\"Column00069\"},\"id\":\"1262\",\"type\":\"Column\"},{\"attributes\":{\"children\":[{\"id\":\"1272\"}],\"margin\":[0,0,0,0],\"name\":\"Row00063\"},\"id\":\"1271\",\"type\":\"Row\"},{\"attributes\":{\"editor\":{\"id\":\"1235\"},\"field\":\"Precip_sqd\",\"formatter\":{\"id\":\"1234\"},\"title\":\"Precip_sqd\"},\"id\":\"1236\",\"type\":\"TableColumn\"},{\"attributes\":{\"icon\":null,\"label\":\"Load file\",\"margin\":[5,10,5,10],\"subscribed_events\":[\"button_click\"]},\"id\":\"1150\",\"type\":\"Button\"},{\"attributes\":{\"editor\":{\"id\":\"1215\"},\"field\":\"Log_Y\",\"formatter\":{\"id\":\"1214\"},\"title\":\"Log_Y\"},\"id\":\"1216\",\"type\":\"TableColumn\"},{\"attributes\":{\"format\":\"0,0.0[00000]\"},\"id\":\"1184\",\"type\":\"NumberFormatter\"}],\"root_ids\":[\"1147\",\"1281\"]},\"title\":\"Bokeh Application\",\"version\":\"2.2.3\"}};\n",
       "    var render_items = [{\"docid\":\"38a5bede-c49a-4e78-8d7d-ed904ffe88f0\",\"root_ids\":[\"1147\"],\"roots\":{\"1147\":\"a2570ca4-87df-4741-ac79-e3671c680314\"}}];\n",
       "    root.Bokeh.embed.embed_items_notebook(docs_json, render_items);\n",
       "  }\n",
       "  if (root.Bokeh !== undefined && root.Bokeh.Panel !== undefined) {\n",
       "    embed_document(root);\n",
       "  } else {\n",
       "    var attempts = 0;\n",
       "    var timer = setInterval(function(root) {\n",
       "      if (root.Bokeh !== undefined && root.Bokeh.Panel !== undefined) {\n",
       "        clearInterval(timer);\n",
       "        embed_document(root);\n",
       "      } else if (document.readyState == \"complete\") {\n",
       "        attempts++;\n",
       "        if (attempts > 100) {\n",
       "          clearInterval(timer);\n",
       "          console.log(\"Bokeh: ERROR: Unable to run BokehJS code because BokehJS library is missing\");\n",
       "        }\n",
       "      }\n",
       "    }, 10, root)\n",
       "  }\n",
       "})(window);</script>"
      ],
      "text/plain": [
       "Row\n",
       "    [0] Column\n",
       "        [0] TextInput(name='File path', value='../data/rice_q1.csv')\n",
       "        [1] Button(clicks=3, name='Load file')\n",
       "        [2] Button(name='Download file')\n",
       "    [1] ParamMethod(method)\n",
       "    [2] Column\n",
       "        [0] Select(options=OrderedDict([('Unnamed: 0'...]), value='Unnamed: 0')\n",
       "        [1] TextInput(name='Query')\n",
       "        [2] Button(name='Add filter')\n",
       "        [3] TextInput(name='Query string')\n",
       "        [4] Button(name='Apply filter')\n",
       "        [5] IntSlider(end=7, name='Page', start=1, value=1, value_throttled=1)\n",
       "        [6] ParamMethod(method)\n",
       "        [7] ParamMethod(method)\n",
       "        [8] ParamMethod(method)"
      ]
     },
     "execution_count": 10,
     "metadata": {
      "application/vnd.holoviews_exec.v0+json": {
       "id": "1147"
      }
     },
     "output_type": "execute_result"
    }
   ],
   "source": [
    "svatdash"
   ]
  },
  {
   "cell_type": "markdown",
   "metadata": {},
   "source": [
    "### Serve the App"
   ]
  },
  {
   "cell_type": "code",
   "execution_count": 16,
   "metadata": {},
   "outputs": [
    {
     "name": "stderr",
     "output_type": "stream",
     "text": [
      "INFO:MainThread:bokeh.server.server:Starting Bokeh server version 2.1.0 (running on Tornado 6.0.4)\n",
      "INFO:MainThread:bokeh.server.tornado:User authentication hooks NOT provided (default user enabled)\n"
     ]
    },
    {
     "name": "stdout",
     "output_type": "stream",
     "text": [
      "Launching server at http://localhost:80\n"
     ]
    },
    {
     "data": {
      "text/plain": [
       "<bokeh.server.server.Server at 0x1cdf83c6708>"
      ]
     },
     "execution_count": 16,
     "metadata": {},
     "output_type": "execute_result"
    },
    {
     "name": "stderr",
     "output_type": "stream",
     "text": [
      "INFO:MainThread:tornado.access:200 GET / (::1) 335.00ms\n",
      "INFO:MainThread:tornado.access:200 GET /static/js/bokeh.min.js?v=9f95464a3b695626394f06a80b4f1a60 (::1) 9.00ms\n",
      "INFO:MainThread:tornado.access:200 GET /static/js/bokeh-tables.min.js?v=4b253f2902a0a75d9316cf4c37a3b15a (::1) 8.95ms\n",
      "INFO:MainThread:tornado.access:200 GET /static/js/bokeh-gl.min.js?v=09cf0db4b301c631e2b8aae0b7bc5180 (::1) 29.00ms\n",
      "INFO:MainThread:tornado.access:200 GET /static/extensions/panel/panel.min.js (::1) 39.01ms\n",
      "INFO:MainThread:tornado.access:200 GET /static/js/bokeh-widgets.min.js?v=7c757501c076efba17bdce1dcb71f383 (::1) 50.00ms\n",
      "INFO:MainThread:tornado.access:101 GET /ws (::1) 3.00ms\n",
      "INFO:MainThread:bokeh.server.views.ws:WebSocket connection opened\n",
      "INFO:MainThread:bokeh.server.views.ws:ServerConnection created\n",
      "WARNING:MainThread:tornado.access:404 GET /favicon.ico (::1) 2.00ms\n"
     ]
    }
   ],
   "source": [
    "pn.serve(svatdash, websocket_origin='localhost', port=80)"
   ]
  }
 ],
 "metadata": {
  "extensions": {
   "jupyter_dashboards": {
    "activeView": "grid_default",
    "version": 1,
    "views": {
     "grid_default": {
      "cellMargin": 10,
      "defaultCellHeight": 20,
      "maxColumns": 12,
      "name": "grid",
      "type": "grid"
     },
     "report_default": {
      "name": "report",
      "type": "report"
     }
    }
   }
  },
  "kernelspec": {
   "display_name": "Python 3",
   "language": "python",
   "name": "python3"
  },
  "language_info": {
   "codemirror_mode": {
    "name": "ipython",
    "version": 3
   },
   "file_extension": ".py",
   "mimetype": "text/x-python",
   "name": "python",
   "nbconvert_exporter": "python",
   "pygments_lexer": "ipython3",
   "version": "3.7.8"
  }
 },
 "nbformat": 4,
 "nbformat_minor": 4
}
